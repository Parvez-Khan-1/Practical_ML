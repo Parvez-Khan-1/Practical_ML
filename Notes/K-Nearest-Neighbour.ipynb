{
 "cells": [
  {
   "cell_type": "markdown",
   "metadata": {},
   "source": [
    "# K-Nearest Neighbour"
   ]
  },
  {
   "cell_type": "markdown",
   "metadata": {},
   "source": [
    "- KNN is an supervised machine learning algorithm used for both regression and classification.\n",
    "- KNN assumes that similar things exists in close proximity/distance.\n",
    "- KNN has no model other than storing the entire dataset, so there is no learning required.\n",
    "- KNN is oftern referred as Lazy learning algorithm as no learning of the model is required and all of the work happens at the time a prediction is requested."
   ]
  },
  {
   "cell_type": "code",
   "execution_count": null,
   "metadata": {},
   "outputs": [],
   "source": []
  }
 ],
 "metadata": {
  "kernelspec": {
   "display_name": "Python 3",
   "language": "python",
   "name": "python3"
  },
  "language_info": {
   "codemirror_mode": {
    "name": "ipython",
    "version": 3
   },
   "file_extension": ".py",
   "mimetype": "text/x-python",
   "name": "python",
   "nbconvert_exporter": "python",
   "pygments_lexer": "ipython3",
   "version": "3.7.4"
  }
 },
 "nbformat": 4,
 "nbformat_minor": 4
}
